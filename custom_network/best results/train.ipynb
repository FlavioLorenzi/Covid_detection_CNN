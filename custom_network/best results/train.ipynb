{
  "nbformat": 4,
  "nbformat_minor": 0,
  "metadata": {
    "colab": {
      "name": "train2_2.ipynb",
      "provenance": [],
      "collapsed_sections": []
    },
    "kernelspec": {
      "name": "python3",
      "display_name": "Python 3"
    },
    "accelerator": "GPU"
  },
  "cells": [
    {
      "cell_type": "code",
      "metadata": {
        "id": "qyM_whJVJqti",
        "colab_type": "code",
        "colab": {}
      },
      "source": [
        "import matplotlib.pyplot as plt\n",
        "import numpy as np\n",
        "import os\n",
        "import tensorflow as tf\n",
        "from tensorflow import keras\n",
        "import time\n",
        "import pathlib\n",
        "from tensorflow.keras import models, layers, datasets, optimizers\n",
        "from tensorflow.keras import  Input\n",
        "from tensorflow.keras.layers import Conv2D, BatchNormalization, Add, Activation, MaxPooling2D, Dropout, Flatten, Dense\n",
        "from datetime import datetime\n",
        "now = datetime.now() "
      ],
      "execution_count": 1,
      "outputs": []
    },
    {
      "cell_type": "code",
      "metadata": {
        "id": "QtZKTy5uKEIh",
        "colab_type": "code",
        "colab": {
          "base_uri": "https://localhost:8080/",
          "height": 32
        },
        "outputId": "07a8ff28-a554-4a3a-c6d0-8fd2d920bb79"
      },
      "source": [
        "from google.colab import drive\n",
        "drive.mount('/content/drive')"
      ],
      "execution_count": 2,
      "outputs": [
        {
          "output_type": "stream",
          "text": [
            "Mounted at /content/drive\n"
          ],
          "name": "stdout"
        }
      ]
    },
    {
      "cell_type": "code",
      "metadata": {
        "id": "GMMhCB5nKG_9",
        "colab_type": "code",
        "colab": {}
      },
      "source": [
        "data_dir = \"/content/drive/My Drive/vision/dataset\"\n",
        "os.chdir(data_dir)\n",
        "#data_dir = pathlib.Path(data_dir)"
      ],
      "execution_count": 3,
      "outputs": []
    },
    {
      "cell_type": "code",
      "metadata": {
        "id": "beQFhxQwKdGa",
        "colab_type": "code",
        "colab": {
          "base_uri": "https://localhost:8080/",
          "height": 32
        },
        "outputId": "1df93839-0d20-4430-995c-99d975feeb30"
      },
      "source": [
        "batch_size = 64\n",
        "\n",
        "AUTOTUNE = tf.data.experimental.AUTOTUNE\n",
        "\n",
        "\n",
        "img_height = 256\n",
        "img_width = 256\n",
        "print(data_dir)"
      ],
      "execution_count": 4,
      "outputs": [
        {
          "output_type": "stream",
          "text": [
            "/content/drive/My Drive/vision/dataset\n"
          ],
          "name": "stdout"
        }
      ]
    },
    {
      "cell_type": "code",
      "metadata": {
        "id": "eQZX7mbEKhBD",
        "colab_type": "code",
        "colab": {
          "base_uri": "https://localhost:8080/",
          "height": 49
        },
        "outputId": "e30efb9a-c118-461f-9752-8dd0219ee060"
      },
      "source": [
        "# Defaults image size to (256, 256)\n",
        "train_ds = tf.keras.preprocessing.image_dataset_from_directory(\n",
        "  data_dir,\n",
        "  validation_split=0.2,\n",
        "  subset=\"training\",\n",
        "  seed=123,\n",
        "  image_size=(img_height, img_width),\n",
        "  batch_size=batch_size\n",
        ")"
      ],
      "execution_count": 5,
      "outputs": [
        {
          "output_type": "stream",
          "text": [
            "Found 1040 files belonging to 2 classes.\n",
            "Using 832 files for training.\n"
          ],
          "name": "stdout"
        }
      ]
    },
    {
      "cell_type": "code",
      "metadata": {
        "id": "zWz3aVdaKlxv",
        "colab_type": "code",
        "colab": {
          "base_uri": "https://localhost:8080/",
          "height": 49
        },
        "outputId": "4320fde8-f5bb-4b8b-89b2-b78507bcc9a3"
      },
      "source": [
        "val_ds = tf.keras.preprocessing.image_dataset_from_directory(\n",
        "  data_dir,\n",
        "  validation_split=0.2,\n",
        "  subset=\"validation\",\n",
        "  seed=123,\n",
        "  image_size=(img_height, img_width),\n",
        "  batch_size=batch_size\n",
        ")"
      ],
      "execution_count": 6,
      "outputs": [
        {
          "output_type": "stream",
          "text": [
            "Found 1040 files belonging to 2 classes.\n",
            "Using 208 files for validation.\n"
          ],
          "name": "stdout"
        }
      ]
    },
    {
      "cell_type": "code",
      "metadata": {
        "id": "uk3P8yiEKqY7",
        "colab_type": "code",
        "colab": {
          "base_uri": "https://localhost:8080/",
          "height": 32
        },
        "outputId": "71790697-23f9-44d7-aa08-78999a17623b"
      },
      "source": [
        "class_names = ['covid','non-covid']\n",
        "print(class_names)"
      ],
      "execution_count": 7,
      "outputs": [
        {
          "output_type": "stream",
          "text": [
            "['covid', 'non-covid']\n"
          ],
          "name": "stdout"
        }
      ]
    },
    {
      "cell_type": "code",
      "metadata": {
        "id": "dPTZwsNgKs1P",
        "colab_type": "code",
        "colab": {}
      },
      "source": [
        "#CONFIFURA PRESTAZIONI\n",
        "\n",
        "#Assicuriamoci di utilizzare il precaricamento bufferizzato in modo da poter produrre dati dal disco senza che l'I / O si blocchi.\n",
        "#Questi sono due metodi importanti da utilizzare durante il caricamento dei dati.\n",
        "\n",
        "#.cache() mantiene le immagini in memoria dopo che sono state caricate dal disco durante la prima epoca\n",
        "#.prefetch() sovrappone alla preelaborazione dei dati e all'esecuzione del modello durante l'addestramento\n",
        "\n",
        "train_ds = train_ds.cache().prefetch(buffer_size=AUTOTUNE)\n",
        "val_ds = val_ds.cache().prefetch(buffer_size=AUTOTUNE)"
      ],
      "execution_count": 8,
      "outputs": []
    },
    {
      "cell_type": "code",
      "metadata": {
        "id": "JhxnCZMtKwar",
        "colab_type": "code",
        "colab": {}
      },
      "source": [
        "###############################\n",
        "#      DATA AUGMENTATION      #\n",
        "###############################\n",
        "\n",
        "# Possiamo aggiungere altro\n",
        "\n",
        "data_augmentation = keras.Sequential(\n",
        "  [\n",
        "    layers.experimental.preprocessing.RandomFlip(\"horizontal\", input_shape=(img_height, img_width,3)),\n",
        "    #layers.experimental.preprocessing.CenterCrop(25,25),\n",
        "    #layers.experimental.preprocessing.RandomContrast(samples, height, width, channels) \n",
        "    layers.experimental.preprocessing.RandomRotation(0.1),\n",
        "    layers.experimental.preprocessing.RandomTranslation(0.1,0.1),\n",
        "    layers.experimental.preprocessing.RandomZoom(0.2),\n",
        "    #layers.GaussianNoise(stddev=1)   #standard deviation of noise distribution\n",
        "  ]\n",
        ") "
      ],
      "execution_count": 9,
      "outputs": []
    },
    {
      "cell_type": "code",
      "metadata": {
        "id": "XmPGfIXQK1z6",
        "colab_type": "code",
        "colab": {
          "base_uri": "https://localhost:8080/",
          "height": 757
        },
        "outputId": "3d674798-d393-48cd-a87f-08e217c5f066"
      },
      "source": [
        "###############################\n",
        "#          CNN MODEL          #\n",
        "###############################\n",
        "#there are no real theoretical rules for which to set the number of filters: \n",
        "#they should be tuned like the hyperparameters;\n",
        "#once you found a good enough functioning, keep them.\n",
        "\n",
        "model = tf.keras.Sequential([\n",
        "  data_augmentation,\n",
        "  layers.experimental.preprocessing.Rescaling(1./255),\n",
        "\n",
        "  layers.Conv2D(16, 5, padding='valid', activation='relu'),  \n",
        "  layers.MaxPooling2D((2,2)),\n",
        "  layers.BatchNormalization(momentum=0.75),\n",
        "  \n",
        "  layers.Conv2D(32, 3, padding='same', activation='relu'),\n",
        "  layers.MaxPooling2D((2,2)),\n",
        "  layers.BatchNormalization(momentum=0.75),\n",
        "\n",
        "  layers.Conv2D(64, 3, padding='same', activation='relu'),\n",
        "  layers.MaxPooling2D((2,2)),\n",
        "  layers.BatchNormalization(momentum=0.75),\n",
        "\n",
        "  layers.Conv2D(128, 3, padding='same', activation='relu'),\n",
        "  layers.MaxPooling2D((2,2)),\n",
        "  layers.BatchNormalization(momentum=0.75),\n",
        "\n",
        "  layers.Dropout(0.5),\n",
        "  layers.Flatten(),\n",
        "\n",
        "  #change activation\n",
        "  layers.Dense(256, activation='relu'),  #first fully connected layers\n",
        "  \n",
        "  layers.Dense(2) # 2 is actually our number of classes. #last fully con layer\n",
        "  \n",
        "  #nb: If BN is applied to this last layer softmax will produce slightly different values and thus predictions have low accuracy\n",
        "\n",
        "\n",
        "])\n",
        "\n",
        "#LR DECAY with STOCASTIC GRAD DESCENT\n",
        "lr_schedule = keras.optimizers.schedules.ExponentialDecay(\n",
        "    initial_learning_rate=1e-2,\n",
        "    decay_steps=10000,\n",
        "    decay_rate=0.9)\n",
        "opt = keras.optimizers.SGD(learning_rate=lr_schedule)\n",
        "\n",
        "\n",
        "#opt = optimizers.Adam(learning_rate=0.0001) #da provare poi cosi\n",
        "\n",
        "model.compile(\n",
        "  optimizer=opt,\n",
        "  loss= tf.keras.losses.SparseCategoricalCrossentropy(from_logits=True),\t #set TRUE may be more numerically stable.\n",
        "  #loss= tf.keras.losses.BinaryCrossentropy(),\n",
        "  metrics=['accuracy'])\n",
        "\n",
        "#checkpointer = tf.keras.callbacks.ModelCheckpoint(filepath = 'check', monitor='val_acc', verbose=0, save_best_only=False, save_weights_only=False, mode='auto', save_freq='epoch')\n",
        "print(model.summary())\n",
        "\n",
        "print(len(list(dataset)))"
      ],
      "execution_count": 10,
      "outputs": [
        {
          "output_type": "stream",
          "text": [
            "Model: \"sequential_1\"\n",
            "_________________________________________________________________\n",
            "Layer (type)                 Output Shape              Param #   \n",
            "=================================================================\n",
            "sequential (Sequential)      (None, 256, 256, 3)       0         \n",
            "_________________________________________________________________\n",
            "rescaling (Rescaling)        (None, 256, 256, 3)       0         \n",
            "_________________________________________________________________\n",
            "conv2d (Conv2D)              (None, 252, 252, 16)      1216      \n",
            "_________________________________________________________________\n",
            "max_pooling2d (MaxPooling2D) (None, 126, 126, 16)      0         \n",
            "_________________________________________________________________\n",
            "batch_normalization (BatchNo (None, 126, 126, 16)      64        \n",
            "_________________________________________________________________\n",
            "conv2d_1 (Conv2D)            (None, 126, 126, 32)      4640      \n",
            "_________________________________________________________________\n",
            "max_pooling2d_1 (MaxPooling2 (None, 63, 63, 32)        0         \n",
            "_________________________________________________________________\n",
            "batch_normalization_1 (Batch (None, 63, 63, 32)        128       \n",
            "_________________________________________________________________\n",
            "conv2d_2 (Conv2D)            (None, 63, 63, 64)        18496     \n",
            "_________________________________________________________________\n",
            "max_pooling2d_2 (MaxPooling2 (None, 31, 31, 64)        0         \n",
            "_________________________________________________________________\n",
            "batch_normalization_2 (Batch (None, 31, 31, 64)        256       \n",
            "_________________________________________________________________\n",
            "conv2d_3 (Conv2D)            (None, 31, 31, 128)       73856     \n",
            "_________________________________________________________________\n",
            "max_pooling2d_3 (MaxPooling2 (None, 15, 15, 128)       0         \n",
            "_________________________________________________________________\n",
            "batch_normalization_3 (Batch (None, 15, 15, 128)       512       \n",
            "_________________________________________________________________\n",
            "dropout (Dropout)            (None, 15, 15, 128)       0         \n",
            "_________________________________________________________________\n",
            "flatten (Flatten)            (None, 28800)             0         \n",
            "_________________________________________________________________\n",
            "dense (Dense)                (None, 256)               7373056   \n",
            "_________________________________________________________________\n",
            "dense_1 (Dense)              (None, 2)                 514       \n",
            "=================================================================\n",
            "Total params: 7,472,738\n",
            "Trainable params: 7,472,258\n",
            "Non-trainable params: 480\n",
            "_________________________________________________________________\n",
            "None\n"
          ],
          "name": "stdout"
        }
      ]
    },
    {
      "cell_type": "code",
      "metadata": {
        "id": "G49dmKFkK8vz",
        "colab_type": "code",
        "colab": {
          "base_uri": "https://localhost:8080/",
          "height": 1000
        },
        "outputId": "6ec44c9c-b6af-404f-e7b5-805b7a342be5"
      },
      "source": [
        "epochs = 100\n",
        "\n",
        "history = model.fit(\n",
        "  train_ds,\n",
        "  validation_data=val_ds,\n",
        "  epochs=epochs,\n",
        "  #callbacks=checkpointer,\n",
        "  batch_size=batch_size,\n",
        "  shuffle = 1040\n",
        ")\n",
        "\n",
        "model.save('model.h5')"
      ],
      "execution_count": 11,
      "outputs": [
        {
          "output_type": "stream",
          "text": [
            "Epoch 1/100\n",
            "13/13 [==============================] - 255s 20s/step - loss: 0.5589 - accuracy: 0.8606 - val_loss: 2.3882 - val_accuracy: 0.4615\n",
            "Epoch 2/100\n",
            "13/13 [==============================] - 3s 197ms/step - loss: 0.1540 - accuracy: 0.9411 - val_loss: 0.1110 - val_accuracy: 0.9663\n",
            "Epoch 3/100\n",
            "13/13 [==============================] - 3s 197ms/step - loss: 0.1073 - accuracy: 0.9639 - val_loss: 0.0979 - val_accuracy: 0.9760\n",
            "Epoch 4/100\n",
            "13/13 [==============================] - 3s 198ms/step - loss: 0.0495 - accuracy: 0.9820 - val_loss: 0.0870 - val_accuracy: 0.9615\n",
            "Epoch 5/100\n",
            "13/13 [==============================] - 3s 199ms/step - loss: 0.0969 - accuracy: 0.9675 - val_loss: 0.0405 - val_accuracy: 0.9856\n",
            "Epoch 6/100\n",
            "13/13 [==============================] - 3s 197ms/step - loss: 0.0524 - accuracy: 0.9760 - val_loss: 0.0450 - val_accuracy: 0.9760\n",
            "Epoch 7/100\n",
            "13/13 [==============================] - 3s 197ms/step - loss: 0.0437 - accuracy: 0.9856 - val_loss: 0.0774 - val_accuracy: 0.9760\n",
            "Epoch 8/100\n",
            "13/13 [==============================] - 3s 199ms/step - loss: 0.0618 - accuracy: 0.9760 - val_loss: 0.0319 - val_accuracy: 0.9856\n",
            "Epoch 9/100\n",
            "13/13 [==============================] - 3s 197ms/step - loss: 0.0407 - accuracy: 0.9832 - val_loss: 0.0577 - val_accuracy: 0.9663\n",
            "Epoch 10/100\n",
            "13/13 [==============================] - 3s 197ms/step - loss: 0.0561 - accuracy: 0.9772 - val_loss: 0.0772 - val_accuracy: 0.9808\n",
            "Epoch 11/100\n",
            "13/13 [==============================] - 3s 197ms/step - loss: 0.0695 - accuracy: 0.9760 - val_loss: 0.0338 - val_accuracy: 0.9760\n",
            "Epoch 12/100\n",
            "13/13 [==============================] - 3s 198ms/step - loss: 0.0563 - accuracy: 0.9796 - val_loss: 0.1107 - val_accuracy: 0.9663\n",
            "Epoch 13/100\n",
            "13/13 [==============================] - 3s 197ms/step - loss: 0.0517 - accuracy: 0.9856 - val_loss: 0.0543 - val_accuracy: 0.9712\n",
            "Epoch 14/100\n",
            "13/13 [==============================] - 3s 197ms/step - loss: 0.0528 - accuracy: 0.9784 - val_loss: 0.0792 - val_accuracy: 0.9712\n",
            "Epoch 15/100\n",
            "13/13 [==============================] - 3s 198ms/step - loss: 0.0415 - accuracy: 0.9856 - val_loss: 0.1154 - val_accuracy: 0.9615\n",
            "Epoch 16/100\n",
            "13/13 [==============================] - 3s 198ms/step - loss: 0.0409 - accuracy: 0.9832 - val_loss: 0.0894 - val_accuracy: 0.9712\n",
            "Epoch 17/100\n",
            "13/13 [==============================] - 3s 197ms/step - loss: 0.0247 - accuracy: 0.9940 - val_loss: 0.0257 - val_accuracy: 0.9856\n",
            "Epoch 18/100\n",
            "13/13 [==============================] - 3s 197ms/step - loss: 0.0303 - accuracy: 0.9904 - val_loss: 0.0679 - val_accuracy: 0.9760\n",
            "Epoch 19/100\n",
            "13/13 [==============================] - 3s 197ms/step - loss: 0.0531 - accuracy: 0.9796 - val_loss: 0.0613 - val_accuracy: 0.9712\n",
            "Epoch 20/100\n",
            "13/13 [==============================] - 3s 197ms/step - loss: 0.0363 - accuracy: 0.9880 - val_loss: 0.0486 - val_accuracy: 0.9760\n",
            "Epoch 21/100\n",
            "13/13 [==============================] - 3s 197ms/step - loss: 0.0459 - accuracy: 0.9820 - val_loss: 0.0705 - val_accuracy: 0.9712\n",
            "Epoch 22/100\n",
            "13/13 [==============================] - 3s 197ms/step - loss: 0.0640 - accuracy: 0.9820 - val_loss: 0.0457 - val_accuracy: 0.9856\n",
            "Epoch 23/100\n",
            "13/13 [==============================] - 3s 197ms/step - loss: 0.0362 - accuracy: 0.9880 - val_loss: 0.0534 - val_accuracy: 0.9808\n",
            "Epoch 24/100\n",
            "13/13 [==============================] - 3s 198ms/step - loss: 0.0237 - accuracy: 0.9904 - val_loss: 0.0336 - val_accuracy: 0.9904\n",
            "Epoch 25/100\n",
            "13/13 [==============================] - 3s 198ms/step - loss: 0.0224 - accuracy: 0.9928 - val_loss: 0.0303 - val_accuracy: 0.9952\n",
            "Epoch 26/100\n",
            "13/13 [==============================] - 3s 196ms/step - loss: 0.0251 - accuracy: 0.9904 - val_loss: 0.0401 - val_accuracy: 0.9856\n",
            "Epoch 27/100\n",
            "13/13 [==============================] - 3s 197ms/step - loss: 0.0149 - accuracy: 0.9952 - val_loss: 0.0340 - val_accuracy: 0.9856\n",
            "Epoch 28/100\n",
            "13/13 [==============================] - 3s 196ms/step - loss: 0.0193 - accuracy: 0.9940 - val_loss: 0.0681 - val_accuracy: 0.9808\n",
            "Epoch 29/100\n",
            "13/13 [==============================] - 3s 196ms/step - loss: 0.0264 - accuracy: 0.9868 - val_loss: 0.0554 - val_accuracy: 0.9808\n",
            "Epoch 30/100\n",
            "13/13 [==============================] - 3s 197ms/step - loss: 0.0195 - accuracy: 0.9916 - val_loss: 0.0618 - val_accuracy: 0.9760\n",
            "Epoch 31/100\n",
            "13/13 [==============================] - 3s 199ms/step - loss: 0.0289 - accuracy: 0.9844 - val_loss: 0.0148 - val_accuracy: 0.9952\n",
            "Epoch 32/100\n",
            "13/13 [==============================] - 3s 195ms/step - loss: 0.0231 - accuracy: 0.9892 - val_loss: 0.0561 - val_accuracy: 0.9808\n",
            "Epoch 33/100\n",
            "13/13 [==============================] - 3s 197ms/step - loss: 0.0263 - accuracy: 0.9904 - val_loss: 0.0444 - val_accuracy: 0.9760\n",
            "Epoch 34/100\n",
            "13/13 [==============================] - 3s 197ms/step - loss: 0.0345 - accuracy: 0.9856 - val_loss: 0.0668 - val_accuracy: 0.9760\n",
            "Epoch 35/100\n",
            "13/13 [==============================] - 3s 196ms/step - loss: 0.0155 - accuracy: 0.9916 - val_loss: 0.0384 - val_accuracy: 0.9856\n",
            "Epoch 36/100\n",
            "13/13 [==============================] - 3s 197ms/step - loss: 0.0180 - accuracy: 0.9952 - val_loss: 0.0199 - val_accuracy: 0.9904\n",
            "Epoch 37/100\n",
            "13/13 [==============================] - 3s 198ms/step - loss: 0.0289 - accuracy: 0.9892 - val_loss: 0.0341 - val_accuracy: 0.9856\n",
            "Epoch 38/100\n",
            "13/13 [==============================] - 3s 197ms/step - loss: 0.0295 - accuracy: 0.9868 - val_loss: 0.1873 - val_accuracy: 0.9567\n",
            "Epoch 39/100\n",
            "13/13 [==============================] - 3s 197ms/step - loss: 0.0253 - accuracy: 0.9892 - val_loss: 0.0579 - val_accuracy: 0.9808\n",
            "Epoch 40/100\n",
            "13/13 [==============================] - 3s 199ms/step - loss: 0.0166 - accuracy: 0.9916 - val_loss: 0.0536 - val_accuracy: 0.9808\n",
            "Epoch 41/100\n",
            "13/13 [==============================] - 3s 197ms/step - loss: 0.0287 - accuracy: 0.9880 - val_loss: 0.0443 - val_accuracy: 0.9904\n",
            "Epoch 42/100\n",
            "13/13 [==============================] - 3s 196ms/step - loss: 0.0322 - accuracy: 0.9904 - val_loss: 0.0382 - val_accuracy: 0.9904\n",
            "Epoch 43/100\n",
            "13/13 [==============================] - 3s 196ms/step - loss: 0.0274 - accuracy: 0.9904 - val_loss: 0.0035 - val_accuracy: 1.0000\n",
            "Epoch 44/100\n",
            "13/13 [==============================] - 3s 196ms/step - loss: 0.0160 - accuracy: 0.9916 - val_loss: 0.0679 - val_accuracy: 0.9808\n",
            "Epoch 45/100\n",
            "13/13 [==============================] - 3s 195ms/step - loss: 0.0253 - accuracy: 0.9904 - val_loss: 0.0668 - val_accuracy: 0.9808\n",
            "Epoch 46/100\n",
            "13/13 [==============================] - 3s 197ms/step - loss: 0.0143 - accuracy: 0.9940 - val_loss: 0.1434 - val_accuracy: 0.9519\n",
            "Epoch 47/100\n",
            "13/13 [==============================] - 3s 197ms/step - loss: 0.0097 - accuracy: 0.9964 - val_loss: 0.0512 - val_accuracy: 0.9856\n",
            "Epoch 48/100\n",
            "13/13 [==============================] - 3s 197ms/step - loss: 0.0257 - accuracy: 0.9880 - val_loss: 0.0429 - val_accuracy: 0.9904\n",
            "Epoch 49/100\n",
            "13/13 [==============================] - 3s 197ms/step - loss: 0.0235 - accuracy: 0.9904 - val_loss: 0.0493 - val_accuracy: 0.9904\n",
            "Epoch 50/100\n",
            "13/13 [==============================] - 3s 198ms/step - loss: 0.0409 - accuracy: 0.9820 - val_loss: 0.0590 - val_accuracy: 0.9904\n",
            "Epoch 51/100\n",
            "13/13 [==============================] - 3s 197ms/step - loss: 0.0193 - accuracy: 0.9892 - val_loss: 0.7318 - val_accuracy: 0.8317\n",
            "Epoch 52/100\n",
            "13/13 [==============================] - 3s 198ms/step - loss: 0.0263 - accuracy: 0.9892 - val_loss: 0.3197 - val_accuracy: 0.9135\n",
            "Epoch 53/100\n",
            "13/13 [==============================] - 3s 200ms/step - loss: 0.0097 - accuracy: 0.9976 - val_loss: 0.0314 - val_accuracy: 0.9904\n",
            "Epoch 54/100\n",
            "13/13 [==============================] - 3s 197ms/step - loss: 0.0110 - accuracy: 0.9976 - val_loss: 0.0381 - val_accuracy: 0.9904\n",
            "Epoch 55/100\n",
            "13/13 [==============================] - 3s 196ms/step - loss: 0.0314 - accuracy: 0.9856 - val_loss: 0.1383 - val_accuracy: 0.9712\n",
            "Epoch 56/100\n",
            "13/13 [==============================] - 3s 196ms/step - loss: 0.0278 - accuracy: 0.9940 - val_loss: 0.0601 - val_accuracy: 0.9856\n",
            "Epoch 57/100\n",
            "13/13 [==============================] - 3s 196ms/step - loss: 0.0111 - accuracy: 0.9964 - val_loss: 0.1484 - val_accuracy: 0.9615\n",
            "Epoch 58/100\n",
            "13/13 [==============================] - 3s 196ms/step - loss: 0.0074 - accuracy: 0.9964 - val_loss: 0.0410 - val_accuracy: 0.9904\n",
            "Epoch 59/100\n",
            "13/13 [==============================] - 3s 197ms/step - loss: 0.0155 - accuracy: 0.9892 - val_loss: 0.1116 - val_accuracy: 0.9760\n",
            "Epoch 60/100\n",
            "13/13 [==============================] - 3s 198ms/step - loss: 0.0213 - accuracy: 0.9916 - val_loss: 0.0526 - val_accuracy: 0.9760\n",
            "Epoch 61/100\n",
            "13/13 [==============================] - 3s 196ms/step - loss: 0.0297 - accuracy: 0.9904 - val_loss: 0.0480 - val_accuracy: 0.9808\n",
            "Epoch 62/100\n",
            "13/13 [==============================] - 3s 197ms/step - loss: 0.0299 - accuracy: 0.9892 - val_loss: 0.0879 - val_accuracy: 0.9808\n",
            "Epoch 63/100\n",
            "13/13 [==============================] - 3s 198ms/step - loss: 0.0249 - accuracy: 0.9928 - val_loss: 0.2691 - val_accuracy: 0.9375\n",
            "Epoch 64/100\n",
            "13/13 [==============================] - 3s 196ms/step - loss: 0.0107 - accuracy: 0.9976 - val_loss: 0.0605 - val_accuracy: 0.9808\n",
            "Epoch 65/100\n",
            "13/13 [==============================] - 3s 198ms/step - loss: 0.0219 - accuracy: 0.9940 - val_loss: 0.0201 - val_accuracy: 0.9904\n",
            "Epoch 66/100\n",
            "13/13 [==============================] - 3s 198ms/step - loss: 0.0343 - accuracy: 0.9904 - val_loss: 0.0133 - val_accuracy: 0.9952\n",
            "Epoch 67/100\n",
            "13/13 [==============================] - 3s 198ms/step - loss: 0.0178 - accuracy: 0.9928 - val_loss: 0.1139 - val_accuracy: 0.9712\n",
            "Epoch 68/100\n",
            "13/13 [==============================] - 3s 197ms/step - loss: 0.0200 - accuracy: 0.9940 - val_loss: 0.0481 - val_accuracy: 0.9808\n",
            "Epoch 69/100\n",
            "13/13 [==============================] - 3s 196ms/step - loss: 0.0205 - accuracy: 0.9916 - val_loss: 0.1948 - val_accuracy: 0.9471\n",
            "Epoch 70/100\n",
            "13/13 [==============================] - 3s 197ms/step - loss: 0.0152 - accuracy: 0.9952 - val_loss: 0.0554 - val_accuracy: 0.9808\n",
            "Epoch 71/100\n",
            "13/13 [==============================] - 3s 196ms/step - loss: 0.0135 - accuracy: 0.9940 - val_loss: 0.0039 - val_accuracy: 1.0000\n",
            "Epoch 72/100\n",
            "13/13 [==============================] - 3s 198ms/step - loss: 0.0141 - accuracy: 0.9964 - val_loss: 0.0465 - val_accuracy: 0.9808\n",
            "Epoch 73/100\n",
            "13/13 [==============================] - 3s 198ms/step - loss: 0.0188 - accuracy: 0.9952 - val_loss: 0.0654 - val_accuracy: 0.9808\n",
            "Epoch 74/100\n",
            "13/13 [==============================] - 3s 196ms/step - loss: 0.0116 - accuracy: 0.9964 - val_loss: 0.1165 - val_accuracy: 0.9808\n",
            "Epoch 75/100\n",
            "13/13 [==============================] - 3s 197ms/step - loss: 0.0180 - accuracy: 0.9952 - val_loss: 0.0907 - val_accuracy: 0.9808\n",
            "Epoch 76/100\n",
            "13/13 [==============================] - 3s 197ms/step - loss: 0.0068 - accuracy: 0.9952 - val_loss: 0.0426 - val_accuracy: 0.9856\n",
            "Epoch 77/100\n",
            "13/13 [==============================] - 3s 196ms/step - loss: 0.0230 - accuracy: 0.9892 - val_loss: 0.0114 - val_accuracy: 0.9952\n",
            "Epoch 78/100\n",
            "13/13 [==============================] - 3s 197ms/step - loss: 0.0210 - accuracy: 0.9904 - val_loss: 0.3131 - val_accuracy: 0.9327\n",
            "Epoch 79/100\n",
            "13/13 [==============================] - 3s 197ms/step - loss: 0.0190 - accuracy: 0.9940 - val_loss: 0.0068 - val_accuracy: 0.9952\n",
            "Epoch 80/100\n",
            "13/13 [==============================] - 3s 196ms/step - loss: 0.0102 - accuracy: 0.9964 - val_loss: 0.0381 - val_accuracy: 0.9856\n",
            "Epoch 81/100\n",
            "13/13 [==============================] - 3s 197ms/step - loss: 0.0243 - accuracy: 0.9940 - val_loss: 0.1285 - val_accuracy: 0.9615\n",
            "Epoch 82/100\n",
            "13/13 [==============================] - 3s 197ms/step - loss: 0.0147 - accuracy: 0.9928 - val_loss: 0.0405 - val_accuracy: 0.9904\n",
            "Epoch 83/100\n",
            "13/13 [==============================] - 3s 197ms/step - loss: 0.0071 - accuracy: 0.9976 - val_loss: 0.0182 - val_accuracy: 0.9952\n",
            "Epoch 84/100\n",
            "13/13 [==============================] - 3s 197ms/step - loss: 0.0147 - accuracy: 0.9952 - val_loss: 0.0170 - val_accuracy: 0.9904\n",
            "Epoch 85/100\n",
            "13/13 [==============================] - 3s 196ms/step - loss: 0.0178 - accuracy: 0.9940 - val_loss: 0.0619 - val_accuracy: 0.9808\n",
            "Epoch 86/100\n",
            "13/13 [==============================] - 3s 198ms/step - loss: 0.0113 - accuracy: 0.9952 - val_loss: 0.0251 - val_accuracy: 0.9904\n",
            "Epoch 87/100\n",
            "13/13 [==============================] - 3s 197ms/step - loss: 0.0196 - accuracy: 0.9940 - val_loss: 0.0508 - val_accuracy: 0.9856\n",
            "Epoch 88/100\n",
            "13/13 [==============================] - 3s 197ms/step - loss: 0.0171 - accuracy: 0.9940 - val_loss: 0.0856 - val_accuracy: 0.9760\n",
            "Epoch 89/100\n",
            "13/13 [==============================] - 3s 197ms/step - loss: 0.0137 - accuracy: 0.9928 - val_loss: 0.0322 - val_accuracy: 0.9904\n",
            "Epoch 90/100\n",
            "13/13 [==============================] - 3s 197ms/step - loss: 0.0129 - accuracy: 0.9952 - val_loss: 0.0121 - val_accuracy: 0.9952\n",
            "Epoch 91/100\n",
            "13/13 [==============================] - 3s 195ms/step - loss: 0.0158 - accuracy: 0.9928 - val_loss: 0.0671 - val_accuracy: 0.9808\n",
            "Epoch 92/100\n",
            "13/13 [==============================] - 3s 197ms/step - loss: 0.0110 - accuracy: 0.9952 - val_loss: 0.1343 - val_accuracy: 0.9712\n",
            "Epoch 93/100\n",
            "13/13 [==============================] - 3s 197ms/step - loss: 0.0081 - accuracy: 0.9976 - val_loss: 0.0236 - val_accuracy: 0.9952\n",
            "Epoch 94/100\n",
            "13/13 [==============================] - 3s 196ms/step - loss: 0.0152 - accuracy: 0.9940 - val_loss: 0.1592 - val_accuracy: 0.9712\n",
            "Epoch 95/100\n",
            "13/13 [==============================] - 3s 198ms/step - loss: 0.0076 - accuracy: 0.9964 - val_loss: 0.0424 - val_accuracy: 0.9952\n",
            "Epoch 96/100\n",
            "13/13 [==============================] - 3s 197ms/step - loss: 0.0142 - accuracy: 0.9964 - val_loss: 0.0238 - val_accuracy: 0.9952\n",
            "Epoch 97/100\n",
            "13/13 [==============================] - 3s 198ms/step - loss: 0.0128 - accuracy: 0.9964 - val_loss: 0.0135 - val_accuracy: 0.9952\n",
            "Epoch 98/100\n",
            "13/13 [==============================] - 3s 198ms/step - loss: 0.0116 - accuracy: 0.9940 - val_loss: 0.2669 - val_accuracy: 0.9327\n",
            "Epoch 99/100\n",
            "13/13 [==============================] - 3s 197ms/step - loss: 0.0172 - accuracy: 0.9928 - val_loss: 0.0956 - val_accuracy: 0.9712\n",
            "Epoch 100/100\n",
            "13/13 [==============================] - 3s 197ms/step - loss: 0.0060 - accuracy: 0.9976 - val_loss: 0.0394 - val_accuracy: 0.9856\n"
          ],
          "name": "stdout"
        }
      ]
    },
    {
      "cell_type": "code",
      "metadata": {
        "id": "kbSZucImLcP8",
        "colab_type": "code",
        "colab": {
          "base_uri": "https://localhost:8080/",
          "height": 514
        },
        "outputId": "054f9757-0dd9-4ed1-fa33-18782c22f64e"
      },
      "source": [
        "acc = history.history['accuracy']\n",
        "val_acc = history.history['val_accuracy']\n",
        "\n",
        "loss=history.history['loss']\n",
        "val_loss=history.history['val_loss']\n",
        "\n",
        "epochs_range = range(epochs)\n",
        "\n",
        "plt.figure(figsize=(8, 8))\n",
        "plt.subplot(1, 2, 1)\n",
        "plt.plot(epochs_range, acc, label='Training Accuracy')\n",
        "plt.plot(epochs_range, val_acc, label='Validation Accuracy')\n",
        "plt.legend(loc='lower right')\n",
        "plt.title('Training and Validation Accuracy')\n",
        "\n",
        "\n",
        "plt.subplot(1, 2, 2)\n",
        "plt.plot(epochs_range, loss, label='Training Loss')\n",
        "plt.plot(epochs_range, val_loss, label='Validation Loss')\n",
        "plt.legend(loc='upper right')\n",
        "plt.title('Training and Validation Loss')\n",
        "#plt.savefig()"
      ],
      "execution_count": 12,
      "outputs": [
        {
          "output_type": "execute_result",
          "data": {
            "text/plain": [
              "Text(0.5, 1.0, 'Training and Validation Loss')"
            ]
          },
          "metadata": {
            "tags": []
          },
          "execution_count": 12
        },
        {
          "output_type": "display_data",
          "data": {
            "image/png": "[encoded data removed]",
            "text/plain": [
              "<Figure size 576x576 with 2 Axes>"
            ]
          },
          "metadata": {
            "tags": [],
            "needs_background": "light"
          }
        }
      ]
    },
    {
      "cell_type": "code",
      "metadata": {
        "id": "658hhbYv5jFs",
        "colab_type": "code",
        "colab": {
          "base_uri": "https://localhost:8080/",
          "height": 49
        },
        "outputId": "30ec37e0-1b7d-4d80-f271-b326f0a09d83"
      },
      "source": [
        "\n",
        "class_names = ['covid','non-covid']\n",
        "print(class_names)\n",
        "\n",
        "dataset_covid = \"/content/drive/My Drive/vision/test/covid\"\n",
        "data_dir_covid = pathlib.Path(dataset_covid)\n",
        "\n",
        "\n",
        "# create a list of elems\n",
        "positives = list(data_dir_covid.glob('*'))\n",
        "\n",
        "predictions_list = []\n",
        "\n",
        "true_positive = 0\n",
        "false_positive = 0\n",
        "\n",
        "for i in positives:\n",
        "  # read the image\n",
        "  img = keras.preprocessing.image.load_img(str(i), target_size=(256, 256))\n",
        "  # trasform into array\n",
        "  img_array = keras.preprocessing.image.img_to_array(img)\n",
        "  img_array = tf.expand_dims(img_array, 0) # Create a batch\n",
        "\n",
        "  # apply your inference here\n",
        "  predictions = model.predict(img_array)\n",
        "  score = tf.nn.softmax(predictions[0])\n",
        "  #class_predict = tf.nn.sigmoid_cross_entropy_with_logits(labels=1, logits=np.max(predictions[0]))\n",
        "  #print(np.max(class_predict))\n",
        "  \n",
        "  if np.argmax(score) == 0:\n",
        "    true_positive = true_positive + 1 #true positive\n",
        "  \n",
        "  \n",
        "false_positive = 50-true_positive\n",
        "\n",
        "\n",
        "\n",
        "\n"
      ],
      "execution_count": 35,
      "outputs": [
        {
          "output_type": "stream",
          "text": [
            "['covid', 'non-covid']\n",
            "7\n"
          ],
          "name": "stdout"
        }
      ]
    },
    {
      "cell_type": "code",
      "metadata": {
        "id": "7Z1Mfj246F87",
        "colab_type": "code",
        "colab": {}
      },
      "source": [
        "\n",
        "class_names = ['covid','non-covid']\n",
        "print(class_names)\n",
        "\n",
        "\n",
        "dataset_nocovid = \"/content/drive/My Drive/vision/test/non\"\n",
        "data_dir_nocovid = pathlib.Path(dataset_nocovid)\n",
        "\n",
        "# create a list of elems\n",
        "positives = list(data_dir_covid.glob('*'))\n",
        "negatives = list(data_dir_nocovid.glob('*'))\n",
        "\n",
        "predictions_list = []\n",
        "\n",
        "true_negative = 0\n",
        "false_negative = 0\n",
        "\n",
        "\n",
        "for j in negatives:\n",
        "  # read the image\n",
        "  img = keras.preprocessing.image.load_img(str(j), target_size=(256, 256))\n",
        "  # trasform into array\n",
        "  img_array = keras.preprocessing.image.img_to_array(img)\n",
        "  img_array = tf.expand_dims(img_array, 0) # Create a batch\n",
        "\n",
        "  # apply your inference here\n",
        "  predictions = model.predict(img_array)\n",
        "  score = tf.nn.softmax(predictions[0])\n",
        "  #class_predict = tf.nn.sigmoid_cross_entropy_with_logits(labels=1, logits=np.max(predictions[0]))\n",
        "  #print(np.max(class_predict))\n",
        "  print(np.argmax(score))\n",
        "  if np.argmax(score) == 1:\n",
        "    true_negative = true_negative + 1 #true negative.  non covid\n",
        "  \n",
        "  \n",
        "false_negative = 50-true_negative\n",
        "\n",
        "\n"
      ],
      "execution_count": null,
      "outputs": []
    },
    {
      "cell_type": "code",
      "metadata": {
        "id": "mU3_tS0N5wxz",
        "colab_type": "code",
        "colab": {
          "base_uri": "https://localhost:8080/",
          "height": 82
        },
        "outputId": "7b3e9ec0-c2c2-44e1-972b-99e91516268a"
      },
      "source": [
        "\n",
        "print(\"true postive = \", true_positive)\n",
        "print(\"true negative = \", true_negative)\n",
        "print(\"false postive = \", false_positive)\n",
        "print(\"false negative = \", false_negative)"
      ],
      "execution_count": 43,
      "outputs": [
        {
          "output_type": "stream",
          "text": [
            "true postive =  43\n",
            "true negative =  50\n",
            "false postive =  7\n",
            "false negative =  0\n"
          ],
          "name": "stdout"
        }
      ]
    },
    {
      "cell_type": "code",
      "metadata": {
        "id": "WPsUentm6_Ig",
        "colab_type": "code",
        "colab": {
          "base_uri": "https://localhost:8080/",
          "height": 1000
        },
        "outputId": "9549009c-ee9d-4fbd-d198-7cd5fa61c162"
      },
      "source": [
        "tf.keras.utils.plot_model(model, to_file=\"deep_model.png\")"
      ],
      "execution_count": 44,
      "outputs": [
        {
          "output_type": "execute_result",
          "data": {
            "image/png": "[encoded data removed]",
            "text/plain": [
              "<IPython.core.display.Image object>"
            ]
          },
          "metadata": {
            "tags": []
          },
          "execution_count": 44
        }
      ]
    },
    {
      "cell_type": "code",
      "metadata": {
        "id": "0n6tvNRG7X9c",
        "colab_type": "code",
        "colab": {}
      },
      "source": [
        ""
      ],
      "execution_count": null,
      "outputs": []
    }
  ]
}